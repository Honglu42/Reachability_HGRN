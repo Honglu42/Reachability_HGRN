{
 "cells": [
  {
   "cell_type": "code",
   "execution_count": 1,
   "metadata": {
    "ExecuteTime": {
     "end_time": "2023-02-10T14:01:09.490941Z",
     "start_time": "2023-02-10T14:00:57.331292Z"
    }
   },
   "outputs": [],
   "source": [
    "import pandas as pd\n",
    "from copy import deepcopy as dc\n",
    "import itertools\n",
    "from itertools import combinations\n",
    "from itertools import permutations\n",
    "import numpy as np\n",
    "from scipy.optimize import linprog\n",
    "import math\n",
    "import pickle\n",
    "from graphviz import Digraph\n",
    "import time\n",
    "import matplotlib as mpl\n",
    "from mpl_toolkits.mplot3d import Axes3D\n",
    "import matplotlib.pyplot as plt\n",
    "from matplotlib.patches import Rectangle\n",
    "import matplotlib.patches as mpatches"
   ]
  },
  {
   "cell_type": "markdown",
   "metadata": {},
   "source": [
    "# INI"
   ]
  },
  {
   "cell_type": "code",
   "execution_count": 2,
   "metadata": {
    "ExecuteTime": {
     "end_time": "2023-02-10T14:01:09.725944Z",
     "start_time": "2023-02-10T14:01:09.494934Z"
    }
   },
   "outputs": [],
   "source": [
    "def get_signature(x):\n",
    "    return_string = ''\n",
    "    for ele in list_entite:\n",
    "        return_string = return_string + str(int(x[ele]))\n",
    "    return return_string\n",
    "\n",
    "\n",
    "def simulation(ini_d_s, ini_c_s, nb_ite):\n",
    "    \"\"\"\n",
    "    initial_discrete_state = '100'\n",
    "    initial_domain = [0.1,0.2,0.3]\n",
    "    \"\"\"\n",
    "    nb_dim = len(ini_c_s)\n",
    "    return_series = np.zeros((1, nb_dim))\n",
    "    times = np.zeros((1, 1))\n",
    "    count = 0\n",
    "    for dim_i in range(nb_dim):\n",
    "        return_series[0][dim_i] = int(ini_d_s[dim_i]) + ini_c_s[dim_i]\n",
    "    times[0][0] = 0\n",
    "    d_s = ini_d_s\n",
    "    c_s = ini_c_s.copy()\n",
    "    for num_ite in range(nb_ite):\n",
    "        # instant transition\n",
    "        instant_transition = True\n",
    "        current_d_s = dc(d_s)\n",
    "        c_count = 0\n",
    "        while instant_transition:\n",
    "            instant_transition = False\n",
    "            for dim_i in range(nb_dim):\n",
    "                if c_s[dim_i] == 1 and classify_boundary(d_s, dim_i, 1) == 'output':\n",
    "                    instant_transition = True\n",
    "                    c_s[dim_i] = 0\n",
    "                    d_s = d_s[0:dim_i] + str(int(d_s[dim_i]) + 1) + d_s[dim_i + 1:]\n",
    "                    break\n",
    "                elif c_s[dim_i] == 0 and classify_boundary(d_s, dim_i, -1) == 'output':\n",
    "                    instant_transition = True\n",
    "                    c_s[dim_i] = 1\n",
    "                    d_s = d_s[0:dim_i] + str(int(d_s[dim_i]) - 1) + d_s[dim_i + 1:]\n",
    "                    break\n",
    "            c_count = c_count + 1\n",
    "            #             print(d_s)\n",
    "            if c_count > 1 and current_d_s == d_s:\n",
    "                return (return_series, times)\n",
    "        delta_t = math.inf\n",
    "        first_touch_dim = nb_dim\n",
    "        first_touch_sign = 0\n",
    "        one_return_series = np.zeros((1, nb_dim))\n",
    "        one_times = np.zeros((1, 1))\n",
    "        set_att = []\n",
    "        for dim_i in range(nb_dim):\n",
    "            if c_s[dim_i] == 1 and classify_boundary(d_s, dim_i, 1) == 'attractif':\n",
    "                set_att = set_att + [dim_i]\n",
    "            elif c_s[dim_i] == 0 and classify_boundary(d_s, dim_i, -1) == 'attractif':\n",
    "                set_att = set_att + [dim_i]\n",
    "        if len(set_att) == nb_dim:\n",
    "            return (return_series, times)\n",
    "        for dim_i in range(nb_dim):\n",
    "            if dim_i not in set_att:\n",
    "                speed = get_celerity(d_s, dim_i)\n",
    "                if speed > 0:\n",
    "                    delta = (1 - c_s[dim_i]) / speed\n",
    "                    sign = 1\n",
    "                elif speed < 0:\n",
    "                    delta = (0 - c_s[dim_i]) / speed\n",
    "                    sign = 0\n",
    "                elif speed == 0:\n",
    "                    delta = math.inf\n",
    "                if delta < delta_t:\n",
    "                    delta_t = delta\n",
    "                    first_touch_dim = dim_i\n",
    "                    first_touch_sign = sign\n",
    "        # check if two boundary are reached at the same time\n",
    "        for dim_i in range(nb_dim):\n",
    "            if dim_i not in set_att:\n",
    "                speed = get_celerity(d_s, dim_i)\n",
    "                if speed > 0:\n",
    "                    delta = (1 - c_s[dim_i]) / speed\n",
    "                    sign = 1\n",
    "                elif speed < 0:\n",
    "                    delta = (0 - c_s[dim_i]) / speed\n",
    "                    sign = 0\n",
    "                elif speed == 0:\n",
    "                    delta = math.inf\n",
    "                if delta == delta_t and dim_i != first_touch_dim:\n",
    "                    print('reach two new boundaries at the same time!')\n",
    "\n",
    "        c_s[first_touch_dim] = first_touch_sign\n",
    "        count = count + delta_t\n",
    "        for dim_i in range(nb_dim):\n",
    "            if dim_i not in set_att and dim_i != first_touch_dim:\n",
    "                speed = get_celerity(d_s, dim_i)\n",
    "                c_s[dim_i] = c_s[dim_i] + delta_t * speed\n",
    "            one_return_series[0][dim_i] = int(d_s[dim_i]) + c_s[dim_i]\n",
    "        #         print('discrete state:',d_s)\n",
    "        #         print('continuous state:',c_s)\n",
    "        #         print('***********************')\n",
    "        one_times[0][0] = count\n",
    "        return_series = np.vstack([return_series, one_return_series])\n",
    "        times = np.vstack([times, one_times])\n",
    "    return (return_series, times)\n",
    "def classify_boundary(state, dim, domain):\n",
    "    \"\"\"\n",
    "    state: '010'\n",
    "    dim: 2\n",
    "    domain: 1/0/-1\n",
    "    \"\"\"\n",
    "    current_row = celerities.query('signature == @state')\n",
    "    speed = current_row['c_' + list_entite[dim]].values[0]\n",
    "    if domain == 0:\n",
    "        return 'interior'\n",
    "    elif domain == 1:\n",
    "        if speed > 0:\n",
    "            if int(state[dim]) == max_level[list_entite[dim]]:\n",
    "                return 'attractif'\n",
    "            else:\n",
    "                upper_discrete_state = state\n",
    "                upper_discrete_state = list(upper_discrete_state)\n",
    "                upper_discrete_state[dim] = str(int(upper_discrete_state[dim]) + 1)\n",
    "                upper_discrete_state = \"\".join(upper_discrete_state)\n",
    "                upper_speed = celerities.query('signature == @upper_discrete_state')['c_' + list_entite[dim]].values[0]\n",
    "                if upper_speed <= 0:\n",
    "                    return 'attractif'\n",
    "                elif upper_speed > 0:\n",
    "                    return 'output'\n",
    "        elif speed == 0:\n",
    "            return 'neutral'\n",
    "        elif speed < 0:\n",
    "            return 'input'\n",
    "    elif domain == -1:\n",
    "        if speed < 0:\n",
    "            if int(state[dim]) == 0:\n",
    "                return 'attractif'\n",
    "            else:\n",
    "                lower_discrete_state = state\n",
    "                lower_discrete_state = list(lower_discrete_state)\n",
    "                lower_discrete_state[dim] = str(int(lower_discrete_state[dim]) - 1)\n",
    "                lower_discrete_state = \"\".join(lower_discrete_state)\n",
    "                lower_speed = celerities.query('signature == @lower_discrete_state')['c_' + list_entite[dim]].values[0]\n",
    "                if lower_speed >= 0:\n",
    "                    return 'attractif'\n",
    "                elif lower_speed < 0:\n",
    "                    return 'output'\n",
    "        elif speed == 0:\n",
    "            return 'neutral'\n",
    "        elif speed > 0:\n",
    "            return 'input'\n",
    "\n",
    "def get_constraint1(discrete_domain):\n",
    "    dim_free = []\n",
    "    for one_dim in range(len(discrete_domain)):\n",
    "        if discrete_domain[one_dim] not in [-1, 1]:\n",
    "            dim_free = dim_free + [one_dim]\n",
    "    last_constraint_a = np.zeros((2 * len(dim_free), len(discrete_domain)))\n",
    "    last_constraint_b = np.zeros((2 * len(dim_free), 1))\n",
    "    for one_dim in range(len(dim_free)):\n",
    "        last_constraint_a[one_dim * 2][dim_free[one_dim]] = 1\n",
    "        last_constraint_a[one_dim * 2 + 1][dim_free[one_dim]] = -1\n",
    "        last_constraint_b[one_dim * 2][0] = 1\n",
    "        last_constraint_b[one_dim * 2 + 1][0] = 0\n",
    "    return last_constraint_a, last_constraint_b\n",
    "        \n",
    "def get_celerity(state, dim):\n",
    "    current_row = celerities.query('signature == @state')\n",
    "    speed = current_row['c_' + list_entite[dim]].values[0]\n",
    "    return speed\n",
    "\n",
    "def verify_fixed_point(ds,cs):\n",
    "    nb_dim = len(cs)\n",
    "    res = True\n",
    "    for i in range(nb_dim):\n",
    "        if cs[i] != 1 and cs[i] != 0:\n",
    "            return False\n",
    "    for i in range(nb_dim):\n",
    "        if cs[i] == 1 and classify_boundary(ds, i, 1) == 'attractif':\n",
    "            res = res and True\n",
    "        elif cs[i] == 0 and classify_boundary(ds, i, -1) == 'attractif':\n",
    "            res = res and True\n",
    "        else:\n",
    "            return False\n",
    "    return res\n",
    "\n",
    "def one_step_simulation(ds,cs):\n",
    "    temp_ds = dc(ds)\n",
    "    temp_cs = dc(cs)\n",
    "    nb_dim = len(cs)\n",
    "    for dim_i in range(nb_dim):\n",
    "        if temp_cs[dim_i] == 1 and classify_boundary(temp_ds, dim_i, 1) == 'output':\n",
    "            temp_cs[dim_i] = 0\n",
    "            temp_ds = temp_ds[0:dim_i] + str(int(temp_ds[dim_i]) + 1) + temp_ds[dim_i + 1:]\n",
    "            return temp_ds,temp_cs\n",
    "        elif temp_cs[dim_i] == 0 and classify_boundary(temp_ds, dim_i, -1) == 'output':\n",
    "            temp_cs[dim_i] = 1\n",
    "            temp_ds = temp_ds[0:dim_i] + str(int(temp_ds[dim_i]) - 1) + temp_ds[dim_i + 1:]\n",
    "            return temp_ds,temp_cs\n",
    "    delta_t = math.inf\n",
    "    first_touch_dim = nb_dim\n",
    "    first_touch_sign = 0\n",
    "    set_att = []\n",
    "    for dim_i in range(nb_dim):\n",
    "        if temp_cs[dim_i] == 1 and classify_boundary(temp_ds, dim_i, 1) == 'attractif':\n",
    "            set_att = set_att + [dim_i]\n",
    "        elif temp_cs[dim_i] == 0 and classify_boundary(temp_ds, dim_i, -1) == 'attractif':\n",
    "            set_att = set_att + [dim_i]\n",
    "    \n",
    "    for dim_i in range(nb_dim):\n",
    "        if dim_i not in set_att:\n",
    "            speed = get_celerity(temp_ds, dim_i)\n",
    "            if speed > 0:\n",
    "                delta = (1 - temp_cs[dim_i]) / speed\n",
    "                sign = 1\n",
    "            elif speed < 0:\n",
    "                delta = (0 - temp_cs[dim_i]) / speed\n",
    "                sign = 0\n",
    "            elif speed == 0:\n",
    "                delta = math.inf\n",
    "            if delta < delta_t:\n",
    "                delta_t = delta\n",
    "                first_touch_dim = dim_i\n",
    "                first_touch_sign = sign\n",
    "\n",
    "    temp_cs[first_touch_dim] = first_touch_sign\n",
    "    for dim_i in range(nb_dim):\n",
    "        if dim_i not in set_att and dim_i != first_touch_dim:\n",
    "            speed = get_celerity(temp_ds, dim_i)\n",
    "            temp_cs[dim_i] = temp_cs[dim_i] + delta_t * speed\n",
    "    return temp_ds,temp_cs\n",
    "def get_dd(cs):\n",
    "    \"\"\" get the discrete domain of a hybrid state\n",
    "    \"\"\"\n",
    "    temp_dd = []\n",
    "    for i in range(len(cs)):\n",
    "        if cs[i] == 0:\n",
    "            temp_dd = temp_dd + [-1]\n",
    "        elif cs[i] == 1:\n",
    "            temp_dd = temp_dd + [1]\n",
    "        else:\n",
    "            temp_dd = temp_dd + [0]\n",
    "    return temp_dd\n",
    "\n",
    "def check_reach_singular(ds,cs,temp_r_ds,temp_r_interval):\n",
    "    nb_dim = len(cs)\n",
    "    if ds != temp_r_ds:\n",
    "        return False\n",
    "    elif ds == temp_r_ds:\n",
    "        temp = True\n",
    "        for i in range(nb_dim):\n",
    "            if cs[i] >= temp_r_interval[i][0] and cs[i] <= temp_r_interval[i][1]:\n",
    "                temp = temp and True\n",
    "            else:\n",
    "                temp = False\n",
    "                break\n",
    "        return temp\n",
    "\n",
    "def check_reach(ds1,cs1,ds2,cs2,temp_r_ds,temp_r_interval):\n",
    "    nb_dim = len(cs1)\n",
    "    if ds2 != ds1:\n",
    "        if ds2 != temp_r_ds:\n",
    "            return False\n",
    "        else:\n",
    "            temp = True\n",
    "            for i in range(nb_dim):\n",
    "                if cs2[i] >= temp_r_interval[i][0] and cs2[i] <= temp_r_interval[i][1]:\n",
    "                    temp = temp and True\n",
    "                else:\n",
    "                    temp = False\n",
    "                    break\n",
    "            return temp\n",
    "    elif ds2 == ds1 == temp_r_ds:\n",
    "        dim_att = []\n",
    "        for i in range(nb_dim):\n",
    "            if cs1[i] == cs2[i]:\n",
    "                dim_att = dim_att + [i]\n",
    "        for i in dim_att:\n",
    "            if (temp_r_interval[i][0]>cs1[i]) or (cs1[i] > temp_r_interval[i][1]):\n",
    "                return False\n",
    "        for i in range(nb_dim):\n",
    "            if i not in dim_att:\n",
    "                for j in [0,1]:\n",
    "                    if min(cs1[i],cs2[i]) <= temp_r_interval[i][j] <= max(cs1[i],cs2[i]):\n",
    "                        temp=True\n",
    "                        temp_cs = dc(cs1)\n",
    "                        ratio = (temp_r_interval[i][j] - cs1[i])/(cs2[i] - cs1[i])\n",
    "                        for k in range(nb_dim):\n",
    "                            if k not in dim_att:\n",
    "                                temp_cs[k] = cs1[k] + (cs2[k] -cs1[k])*ratio\n",
    "                                if k != i:\n",
    "                                    if temp_r_interval[k][0] <= temp_cs[k] <= temp_r_interval[k][1]:\n",
    "                                        temp = temp and True\n",
    "                                    else:\n",
    "                                        temp = temp and False\n",
    "                        if temp == True:\n",
    "                            return True\n",
    "        return False\n",
    "    else:\n",
    "        return False\n",
    "\n",
    "def get_transition_matrix(state, first_domain, second_domain):\n",
    "    \"\"\"\n",
    "    state: '0101'\n",
    "    first_domain(second_domain): [0,-1,1,0]\n",
    "    \"\"\"\n",
    "    # get first reach dimension\n",
    "    first_reach_dim = len(second_domain) + 1\n",
    "    for num_dim in range(len(second_domain)):\n",
    "        if second_domain[num_dim] in [-1, 1] and first_domain[num_dim] != second_domain[num_dim]:\n",
    "            first_reach_dim = num_dim\n",
    "            break\n",
    "    # Calculate delta t\n",
    "    speed = get_celerity(state, first_reach_dim)\n",
    "    if first_domain[first_reach_dim] in [1, -1]:\n",
    "        if second_domain[first_reach_dim] == 1:\n",
    "            delta_cons = 1 / speed\n",
    "            delta_var = 0\n",
    "        elif second_domain[first_reach_dim] == -1:\n",
    "            delta_cons = (-1) / speed\n",
    "            delta_var = 0\n",
    "    else:\n",
    "        if second_domain[first_reach_dim] == 1:\n",
    "            delta_cons = 1 / speed\n",
    "            delta_var = (-1) / speed\n",
    "        elif second_domain[first_reach_dim] == -1:\n",
    "            delta_cons = 0\n",
    "            delta_var = (-1) / speed\n",
    "    # calculate transition matrix\n",
    "    nb_dim = len(second_domain)\n",
    "    # the supplementary dimension is 1\n",
    "    t_m = np.zeros((nb_dim + 1, nb_dim + 1))\n",
    "    t_m[nb_dim][nb_dim] = 1\n",
    "    delta1 = time.time()\n",
    "    for num_dim in range(nb_dim):\n",
    "        if num_dim == first_reach_dim:\n",
    "            # for first reached dimension\n",
    "            if second_domain[first_reach_dim] == 1:\n",
    "                t_m[first_reach_dim][nb_dim] = 1\n",
    "            elif second_domain[first_reach_dim] == -1:\n",
    "                t_m[first_reach_dim][nb_dim] = 0\n",
    "        else:\n",
    "            # slide\n",
    "            if second_domain[num_dim] in [-1, 1] and second_domain[num_dim] == first_domain[num_dim]:\n",
    "                t_m[num_dim][num_dim] = 1\n",
    "            else:\n",
    "                # normal tranform x_new = x + c * delta_t\n",
    "                current_speed = get_celerity(state, num_dim)\n",
    "                t_m[num_dim][num_dim] = 1\n",
    "                t_m[num_dim][first_reach_dim] = current_speed * delta_var\n",
    "                t_m[num_dim][nb_dim] = current_speed * delta_cons\n",
    "    return t_m\n",
    "\n",
    "\n",
    "def get_transition_cross_state(state1, state2):\n",
    "    \"\"\"\n",
    "    state1: '0101'\n",
    "    state2: '0100'\n",
    "    \"\"\"\n",
    "    nb_dim = len(state1)\n",
    "    # initialize transiton matrix\n",
    "    t_m = np.zeros((nb_dim + 1, nb_dim + 1))\n",
    "    t_m[nb_dim][nb_dim] = 1\n",
    "    for dim_i in range(nb_dim):\n",
    "        t_m[dim_i][dim_i] = 1\n",
    "        if state2[dim_i] > state1[dim_i]:\n",
    "            t_m[dim_i][nb_dim] = -1\n",
    "        elif state2[dim_i] < state1[dim_i]:\n",
    "            t_m[dim_i][nb_dim] = 1\n",
    "    return t_m\n",
    "\n",
    "def reduction_h(temp_dd,temp_cs):\n",
    "    temp = []\n",
    "    for i in range(len(temp_dd)):\n",
    "        if temp_dd[i] not in [-1,1]:\n",
    "            temp = temp + [temp_cs[i]]\n",
    "    temp = np.asarray(temp)\n",
    "    return np.expand_dims(temp, axis=1)\n",
    "\n",
    "def to_discrete_trajectory(temp_list_ds,temp_list_dd):\n",
    "    first_dict = dict()\n",
    "    first_dict[temp_list_ds[0]] = [temp_list_dd[0]]\n",
    "    temp = [first_dict]\n",
    "    for i in range(1,len(temp_list_dd)):\n",
    "        if list(temp[-1].keys())[0] == temp_list_ds[i]:\n",
    "            temp[-1][temp_list_ds[i]] = temp[-1][temp_list_ds[i]] + [temp_list_dd[i]]\n",
    "        else:\n",
    "            new_dict = dict()\n",
    "            new_dict[temp_list_ds[i]] = [temp_list_dd[i]]\n",
    "            temp = temp + [new_dict]\n",
    "    return temp\n",
    "\n",
    "def get_stable_zone(one_trajectory):\n",
    "    len_state = len(one_trajectory)\n",
    "    nb_dim = len(list_entite)\n",
    "    t_m = np.zeros((nb_dim + 1, nb_dim + 1))\n",
    "    cons_a = np.zeros((1, nb_dim))\n",
    "    cons_b = np.ones((1, 1))\n",
    "    for dim_i in range(nb_dim + 1):\n",
    "        t_m[dim_i][dim_i] = 1\n",
    "    for i_state in range(len_state):\n",
    "        current_discrete_state = list(one_trajectory[i_state].keys())[0]\n",
    "        if i_state < len_state - 1:\n",
    "            post_discrete_state = list(one_trajectory[i_state + 1].keys())[0]\n",
    "        current_discrete_trajectory = one_trajectory[i_state][current_discrete_state]\n",
    "        len_domain = len(current_discrete_trajectory)\n",
    "        for i_domain in range(len_domain):\n",
    "            # calculate current constraints\n",
    "            current_cons_a, current_cons_b = get_constraint1(current_discrete_trajectory[i_domain])\n",
    "            new_cons_a = np.matmul(current_cons_a, t_m[:-1, :-1])\n",
    "            temp_b = np.matmul(current_cons_a, t_m[:-1, -1])\n",
    "            new_cons_b = current_cons_b - temp_b.reshape(temp_b.shape[0], 1)\n",
    "            cons_a = np.vstack([cons_a, new_cons_a])\n",
    "            cons_b = np.vstack([cons_b, new_cons_b])\n",
    "            # calculate next transition matrix\n",
    "            if i_domain < len_domain - 1:\n",
    "                current_transition_matrix = get_transition_matrix(current_discrete_state,\n",
    "                                                                  current_discrete_trajectory[i_domain],\n",
    "                                                                  current_discrete_trajectory[i_domain + 1])\n",
    "                t_m = np.matmul(current_transition_matrix, t_m)\n",
    "            elif i_domain == len_domain - 1 and i_state < len_state - 1:\n",
    "                current_transition_matrix = get_transition_cross_state(current_discrete_state, post_discrete_state)\n",
    "                t_m = np.matmul(current_transition_matrix, t_m)\n",
    "    # regularise the constrains in the first discrete domain\n",
    "    first_discrete_state = list(one_trajectory[0].keys())[0]\n",
    "    first_domain = one_trajectory[0][first_discrete_state][0]\n",
    "    for num_dim in range(len(first_domain)):\n",
    "        if first_domain[num_dim] == -1:\n",
    "            cons_a[:, num_dim] = 0\n",
    "        elif first_domain[num_dim] == 1:\n",
    "            cons_b = cons_b - cons_a[:, num_dim].reshape(cons_a[:, num_dim].shape[0], 1)\n",
    "            cons_a[:, num_dim] = 0\n",
    "    return cons_a, cons_b\n",
    "\n",
    "def verify_limit_cycle(temp_list_ds,temp_list_cs,temp_list_dd):\n",
    "    first_dd = temp_list_dd[0]\n",
    "    nb_dim = len(temp_list_cs[0])\n",
    "    list_bord = []\n",
    "    for i in range(nb_dim):\n",
    "        if first_dd[i] in [-1,1]:\n",
    "            list_bord = list_bord + [i]\n",
    "    if len(list_bord) == nb_dim:\n",
    "        return 'asymptotic'\n",
    "    else:\n",
    "        # compute transition matrix M\n",
    "        if temp_list_ds[0] == temp_list_ds[1]:\n",
    "            M = get_transition_matrix(temp_list_ds[0],temp_list_dd[0],temp_list_dd[1])\n",
    "        elif temp_list_ds[0] != temp_list_ds[1]:\n",
    "            M = get_transition_cross_state(temp_list_ds[0],temp_list_ds[1])\n",
    "        for i in range(1,len(temp_list_ds)-1):\n",
    "            if temp_list_ds[i] == temp_list_ds[i+1]:\n",
    "                m = get_transition_matrix(temp_list_ds[i],temp_list_dd[i],temp_list_dd[i+1])\n",
    "            elif temp_list_ds[i] != temp_list_ds[i+1]:\n",
    "                m = get_transition_cross_state(temp_list_ds[i],temp_list_ds[i+1])\n",
    "            M = np.matmul(m,M)\n",
    "        # compute reduction matrix\n",
    "        list_bord = list_bord + [len(first_dd)]\n",
    "        A = np.delete(M, list_bord, 0)\n",
    "        A = np.delete(A,list_bord, 1)\n",
    "        # compute eigenvalues\n",
    "        eigen_val = np.linalg.eig(A)[0]\n",
    "        max_abs_eigen = 0\n",
    "        max_eigen_id = 0\n",
    "        for i in range(len(eigen_val)):\n",
    "            if abs(eigen_val[i]) > 1:\n",
    "                return 'unknown'\n",
    "            if abs(eigen_val[i]) > abs(max_abs_eigen):\n",
    "                max_abs_eigen = dc(eigen_val[i])\n",
    "                max_eigen_id = i\n",
    "        # compute constant vector\n",
    "        temp_cons = np.zeros((len(first_dd)+1,1))\n",
    "        for j in range(len(first_dd)):\n",
    "            if first_dd[j] == 1:\n",
    "                temp_cons[j][0] = 1\n",
    "        temp_cons[len(first_dd)][0] = 1\n",
    "        b = np.matmul(M,temp_cons)\n",
    "        b = np.delete(b,list_bord,0)\n",
    "        I = np.identity(b.shape[0])\n",
    "        # compute a fixed point\n",
    "        r_f = np.linalg.lstsq(I - A,b)[0]\n",
    "        #clean r_f\n",
    "        for i in range(r_f.shape[0]):\n",
    "            if abs(r_f[i][0] - 0)<0.001:\n",
    "                r_f[i][0] = 0\n",
    "            if abs(r_f[i][0] - 1)<0.001:\n",
    "                r_f[i][0] = 1\n",
    "        # compute r(h_1)\n",
    "        r_h_1 = reduction_h(temp_list_dd[0],temp_list_cs[0])\n",
    "        # compute r_inf\n",
    "        u, s, vh = np.linalg.svd(A)\n",
    "        for i in range(s.shape[0]):\n",
    "            if abs(s[i])<1:\n",
    "                s[i] = 0\n",
    "        r_x = r_h_1 - r_f\n",
    "        r_x1 = np.matmul(vh,r_x)\n",
    "        r_x2 = np.matmul(np.diag(s),r_x1)\n",
    "        r_x3 = np.matmul(u,r_x2)\n",
    "        r_inf = r_x3 + r_f\n",
    "        # clean r_inf\n",
    "        for i in range(r_inf.shape[0]):\n",
    "            if abs(r_inf[i][0] - 0)<0.001:\n",
    "                r_inf[i][0] = 0\n",
    "            if abs(r_inf[i][0] - 1)<0.001:\n",
    "                r_inf[i][0] = 1\n",
    "        # compute reduction compatible zone\n",
    "        W,c = get_stable_zone(to_discrete_trajectory(temp_list_ds,temp_list_dd))\n",
    "        W = W*(-1)\n",
    "        c = c*(-1)\n",
    "        W = np.delete(W, list_bord[:-1], 1)\n",
    "        Ie = []\n",
    "        In = []\n",
    "        n0 = W.shape[0]\n",
    "        n1 = W.shape[1]\n",
    "        cp = np.matmul(W,r_inf)\n",
    "        for i in range(n0):\n",
    "            if abs(cp[i][0] - c[i][0]) < 0.001:\n",
    "                Ie = Ie + [i]\n",
    "            elif cp[i][0] > c[i][0]:\n",
    "                In = In + [i]\n",
    "        if len(Ie)+len(In) < n0:\n",
    "            return 'unknown'\n",
    "        if len(Ie) > 0 and max_abs_eigen < 0:\n",
    "            return 'unknown'\n",
    "        # decomposition of r_h_1 - r_inf\n",
    "        v = np.linalg.eig(A)[1]\n",
    "        alpha = np.linalg.solve(v,r_h_1 - r_inf)\n",
    "        v1 = v[:,max_eigen_id]\n",
    "        # Check the fifth condition\n",
    "        for i in Ie:\n",
    "            for j in range(n1):\n",
    "                if j != max_eigen_id:\n",
    "                    if abs(np.dot(W[i,:],v1)*alpha[max_eigen_id]) <= n1*abs(np.dot(W[i,:],v[:,j])*alpha[j]):\n",
    "                        return 'unknown'\n",
    "        # Check the sixth condition\n",
    "        for i in In:\n",
    "            if np.linalg.norm(r_h_1 - r_inf) >= (np.dot(W[i,:],r_inf)-c[i][0])/np.linalg.norm(W[i,:]):\n",
    "                return 'unknown'\n",
    "        return 'asymptotic'\n",
    "\n",
    "def verify_chaos(cycle_ds,cycle_dd,i0,temp_list_ds,temp_list_dd):\n",
    "    len_cycle = len(cycle_ds)\n",
    "    if cycle_ds == temp_list_ds[i0 - len_cycle:i0] and cycle_dd == temp_list_dd[i0 - len_cycle:i0]:\n",
    "        return 'unknown'\n",
    "    else:\n",
    "        for i in range(i0-1,len_cycle,-1):\n",
    "            if cycle_ds == temp_list_ds[i - len_cycle:i] and cycle_dd == temp_list_dd[i - len_cycle:i]:\n",
    "                return 'chaos'\n",
    "        return 'unknown'\n",
    "\n",
    "def classify_trajectory(temp_list_ds,temp_list_cs,temp_list_dd):\n",
    "    len_sim = len(temp_list_cs)\n",
    "    for i in range(len_sim-2,-1,-1):\n",
    "        if temp_list_ds[i] == temp_list_ds[len_sim-1] and temp_list_dd[i] == temp_list_dd[len_sim-1]:\n",
    "            res = verify_limit_cycle(temp_list_ds[i:],temp_list_cs[i:],temp_list_dd[i:])\n",
    "            if res == 'asymptotic':\n",
    "                return 'asymptotic',len(temp_list_ds[i:])\n",
    "            res = verify_chaos(temp_list_ds[i:],temp_list_dd[i:],i,temp_list_ds,temp_list_dd)\n",
    "            if res == 'chaos':\n",
    "                return 'chaos',None\n",
    "    return 'unknown',None\n",
    "\n",
    "def stop_condition(cycle_ds,cycle_dd,cycle_cs,r2_ds,r2_interval):\n",
    "    nb_dim = len(cycle_cs[0])\n",
    "    len_c = len(cycle_ds)\n",
    "    var_stop = True\n",
    "    for i in range(len_c):\n",
    "        if (i == 0 and cycle_ds[0] == r2_ds and cycle_ds[-1] != r2_ds) or (i != 0 and cycle_ds[i] == r2_ds and cycle_ds[i-1]!=r2_ds):\n",
    "            # for each discrete domain on an input boundary of r2_ds\n",
    "            # reorder the cycle\n",
    "            new_cycle_ds = cycle_ds[i:] + cycle_ds[1:i] + [cycle_ds[i]]\n",
    "            new_cycle_dd = cycle_dd[i:] + cycle_dd[1:i] + [cycle_dd[i]]\n",
    "            new_cycle_cs = cycle_cs[i:] + cycle_cs[1:i] + [cycle_cs[i]]\n",
    "            # Compute h_inf\n",
    "            hi = new_cycle_cs[0]\n",
    "            # compute transition matrix M\n",
    "            if new_cycle_ds[0] == new_cycle_ds[1]:\n",
    "                M = get_transition_matrix(new_cycle_ds[0],new_cycle_dd[0],new_cycle_dd[1])\n",
    "            elif new_cycle_ds[0] != new_cycle_ds[1]:\n",
    "                M = get_transition_cross_state(new_cycle_ds[0],new_cycle_ds[1])\n",
    "            for j in range(1,len(new_cycle_ds)-1):\n",
    "                if new_cycle_ds[j] == new_cycle_ds[j+1]:\n",
    "                    m = get_transition_matrix(new_cycle_ds[j],new_cycle_dd[j],new_cycle_dd[j+1])\n",
    "                elif new_cycle_ds[j] != new_cycle_ds[j+1]:\n",
    "                    m = get_transition_cross_state(new_cycle_ds[j],new_cycle_ds[j+1])\n",
    "                M = np.matmul(m,M)\n",
    "            list_bord = []\n",
    "            first_dd = new_cycle_dd[0]\n",
    "            for j in range(nb_dim):\n",
    "                if first_dd[j] in [-1,1]:\n",
    "                    list_bord = list_bord + [j]\n",
    "            if len(list_bord) == nb_dim:\n",
    "                # If D0 has no free dimension\n",
    "                h_inf = dc(hi)\n",
    "            else:\n",
    "                # If D0 has free dimension\n",
    "                # compute reduction matrix\n",
    "                list_bord = list_bord + [len(first_dd)]\n",
    "                A = np.delete(M, list_bord, 0)\n",
    "                A = np.delete(A,list_bord, 1)\n",
    "                # compute eigenvalues\n",
    "                eigen_val = np.linalg.eig(A)[0]\n",
    "                max_abs_eigen = 0\n",
    "                max_eigen_id = 0\n",
    "                for j in range(len(eigen_val)):\n",
    "                    if abs(eigen_val[j]) > abs(max_abs_eigen):\n",
    "                        max_abs_eigen = dc(eigen_val[j])\n",
    "                        max_eigen_id = j\n",
    "                # compute constant vector\n",
    "                temp_cons = np.zeros((len(first_dd)+1,1))\n",
    "                for j in range(len(first_dd)):\n",
    "                    if first_dd[j] == 1:\n",
    "                        temp_cons[j][0] = 1\n",
    "                temp_cons[len(first_dd)][0] = 1\n",
    "                b = np.matmul(M,temp_cons)\n",
    "                b = np.delete(b,list_bord,0)\n",
    "                I = np.identity(b.shape[0])\n",
    "                # compute a fixed point\n",
    "                r_f = np.linalg.lstsq(I - A,b)[0]\n",
    "                # clean r_f\n",
    "                for j in range(r_f.shape[0]):\n",
    "                    if abs(r_f[j][0] - 0)<0.001:\n",
    "                        r_f[j][0] = 0\n",
    "                    if abs(r_f[j][0] - 1)<0.001:\n",
    "                        r_f[j][0] = 1\n",
    "                # compute r(h_1)\n",
    "                r_h_1 = reduction_h(new_cycle_dd[0],new_cycle_cs[0])\n",
    "                # compute r_inf\n",
    "                u, s, vh = np.linalg.svd(A)\n",
    "                for j in range(s.shape[0]):\n",
    "                    if abs(s[j])<1:\n",
    "                        s[j] = 0\n",
    "                r_x = r_h_1 - r_f\n",
    "                r_x1 = np.matmul(vh,r_x)\n",
    "                r_x2 = np.matmul(np.diag(s),r_x1)\n",
    "                r_x3 = np.matmul(u,r_x2)\n",
    "                r_inf = r_x3 + r_f\n",
    "                # clean r_inf\n",
    "                for j in range(r_inf.shape[0]):\n",
    "                    if abs(r_inf[j][0] - 0)<0.001:\n",
    "                        r_inf[j][0] = 0\n",
    "                    if abs(r_inf[j][0] - 1)<0.001:\n",
    "                        r_inf[j][0] = 1\n",
    "                # r_inf is a reduction vector\n",
    "                h_inf = dc(new_cycle_cs[0])\n",
    "                p = 0\n",
    "                for j in range(len(first_dd)):\n",
    "                    if first_dd[j] == 1:\n",
    "                        h_inf[j] = 1\n",
    "                    elif first_dd[j] == -1:\n",
    "                        h_inf[j] = 0\n",
    "                    else:\n",
    "                        h_inf[j] = r_inf[p][0]\n",
    "                        p = p + 1\n",
    "            # compute the sequence\n",
    "            s_cs = [dc(h_inf)]\n",
    "            next_ds,next_cs = one_step_simulation(new_cycle_ds[0],h_inf)\n",
    "            while next_ds == new_cycle_ds[0]:\n",
    "                s_cs = s_cs + [next_cs]\n",
    "                next_ds,next_cs = one_step_simulation(new_cycle_ds[0],next_cs)\n",
    "            # check reached\n",
    "            if len(s_cs)>1:\n",
    "                for j in range(len(s_cs)-1):\n",
    "                    temp_res = check_reach(new_cycle_ds[0],s_cs[j],new_cycle_ds[0],s_cs[j+1],r2_ds,r2_interval)\n",
    "                    if temp_res == True:\n",
    "                        return 'reached'\n",
    "            else:\n",
    "                temp_res = check_reach_singular(new_cycle_ds[0],s_cs[0],r2_ds,r2_interval)\n",
    "                if temp_res == True:\n",
    "                    return 'reached'\n",
    "            # compute v w\n",
    "            celerity = []\n",
    "            v = []\n",
    "            w = []\n",
    "            for j in range(nb_dim):\n",
    "                celerity = celerity + [get_celerity(new_cycle_ds[0],j)]\n",
    "            for j in range(len(s_cs)):\n",
    "                if j == 0:\n",
    "                    v = v + [celerity]\n",
    "                    w = w + [[0 for k in range(nb_dim)]]\n",
    "                else:\n",
    "                    first_cs = s_cs[j-1]\n",
    "                    second_cs = s_cs[j]\n",
    "                    temp_v = dc(celerity)\n",
    "                    temp_w = [0 for k in range(nb_dim)]\n",
    "                    for k in range(nb_dim):\n",
    "                        if first_cs[k]==second_cs[k] and second_cs[k] in [0,1]:\n",
    "                            temp_v[k] = 0\n",
    "                        if first_cs[k] != second_cs[k] and second_cs[k] in [0,1]:\n",
    "                            temp_w[k] = 1\n",
    "                    v = v + [temp_v]\n",
    "                    w = w + [temp_w]\n",
    "            # compute l_K+1\n",
    "            ln = np.linalg.norm(np.array(hi)-np.array(h_inf))\n",
    "            for j in range(1,len(s_cs)):\n",
    "                ln = ln/(abs(np.dot(np.array(v[j]),np.array(w[j])))/(np.linalg.norm(np.array(v[j]))))\n",
    "            new_r2_interval = dc(r2_interval)\n",
    "            for j in range(nb_dim):\n",
    "                new_r2_interval[j][0] = max(r2_interval[j][0]-ln,0)\n",
    "                new_r2_interval[j][1] = min(r2_interval[j][1]+ln,1)\n",
    "            if len(s_cs)>1:\n",
    "                tem = []\n",
    "                for j in range(len(s_cs)-1):\n",
    "                    temp_res = check_reach(new_cycle_ds[0],s_cs[j],new_cycle_ds[0],s_cs[j+1],r2_ds,new_r2_interval)\n",
    "                    if temp_res == True:\n",
    "                        tem = tem + [0]\n",
    "                    elif temp_res == False:\n",
    "                        tem = tem + [1]\n",
    "                if sum(tem) == len(tem):\n",
    "                    var_stop = var_stop and True\n",
    "                elif sum(tem) != len(tem):\n",
    "                    var_stop = var_stop and False\n",
    "            else:\n",
    "                temp_res = check_reach_singular(new_cycle_ds[0],s_cs[0],r2_ds,new_r2_interval)\n",
    "                if temp_res == False:\n",
    "                    var_stop = var_stop and True\n",
    "                elif temp_res == True:\n",
    "                    var_stop = var_stop and False\n",
    "    if var_stop == True:\n",
    "        return 'yes'\n",
    "    elif var_stop == False:\n",
    "        return 'no'\n",
    "def reach(ini_ds,ini_cs,r2_ds,r2_interval):\n",
    "    list_ds = []\n",
    "    list_dd = []\n",
    "    list_cs = []\n",
    "    # list_ds and list_dd save the history of simulation\n",
    "    current_ds = dc(ini_ds)\n",
    "    current_cs = dc(ini_cs)\n",
    "    current_dd = get_dd(current_cs)\n",
    "\n",
    "    list_cs = list_cs + [dc(current_cs)]\n",
    "    list_dd = list_dd + [dc(current_dd)]\n",
    "    list_ds = list_ds + [dc(current_ds)]\n",
    "\n",
    "    bool_asymptotic = False\n",
    "    bool_chaos = False\n",
    "    while verify_fixed_point(current_ds,current_cs)==False:\n",
    "        next_ds,next_cs = one_step_simulation(current_ds,current_cs)\n",
    "        test_reach = check_reach(current_ds,current_cs,next_ds,next_cs,r2_ds,r2_interval)\n",
    "        if test_reach == True:\n",
    "            return 'Reached'\n",
    "            break\n",
    "        else:\n",
    "            current_ds = dc(next_ds)\n",
    "            current_cs = dc(next_cs)\n",
    "            current_dd = get_dd(current_cs)\n",
    "\n",
    "            list_cs = list_cs + [dc(current_cs)]\n",
    "            list_dd = list_dd + [dc(current_dd)]\n",
    "            list_ds = list_ds + [dc(current_ds)]\n",
    "\n",
    "            if bool_asymptotic == False and bool_chaos == False:\n",
    "                res,lenth = classify_trajectory(list_ds,list_cs,list_dd)\n",
    "                if res == 'asymptotic':\n",
    "                    bool_asymptotic = True\n",
    "                    stop_tem = stop_condition(list_ds[-lenth:],list_dd[-lenth:],list_cs[-lenth:],r2_ds,r2_interval)\n",
    "                    if stop_tem == 'reached':\n",
    "                        return 'Reached'\n",
    "                    elif stop_tem == 'yes':\n",
    "                        return 'Not reached'\n",
    "                        break\n",
    "                if res == 'chaos':\n",
    "                    bool_chaos = True\n",
    "                    return 'Unknown'\n",
    "                    break\n",
    "            elif bool_asymptotic == True:\n",
    "                stop_tem = stop_condition(list_ds[-lenth:],list_dd[-lenth:],list_cs[-lenth:],r2_ds,r2_interval)\n",
    "                if stop_tem == 'reached':\n",
    "                    return 'Reached'\n",
    "                    break\n",
    "                elif stop_tem == 'yes':\n",
    "                    return 'Not reached'\n",
    "                    break\n",
    "    return 'Not reached'"
   ]
  },
  {
   "cell_type": "markdown",
   "metadata": {},
   "source": [
    "# 2D model"
   ]
  },
  {
   "cell_type": "markdown",
   "metadata": {},
   "source": [
    "## Unreached example"
   ]
  },
  {
   "cell_type": "code",
   "execution_count": 3,
   "metadata": {
    "ExecuteTime": {
     "end_time": "2023-02-10T14:01:15.553453Z",
     "start_time": "2023-02-10T14:01:15.475627Z"
    }
   },
   "outputs": [],
   "source": [
    "list_entite = ['g1','g2']\n",
    "max_level = dict()\n",
    "max_level['g1'] = 1\n",
    "max_level['g2'] = 1\n",
    "\n",
    "list_colums = []\n",
    "list_colums = list_colums + list_entite\n",
    "for one_ele in list_entite:\n",
    "    list_colums = list_colums + ['c_'+one_ele]\n",
    "celerities = pd.DataFrame(columns=list_colums)\n",
    "\n",
    "df1 = pd.DataFrame([[0,0,0.7,-1.1]],columns=list_colums)\n",
    "df2 = pd.DataFrame([[0,1,-0.8,-0.9]],columns=list_colums)\n",
    "df3 = pd.DataFrame([[1,0,0.9,1.2]],columns=list_colums)\n",
    "df4 = pd.DataFrame([[1,1,-1.2,1.3]],columns=list_colums)\n",
    "\n",
    "celerities = celerities.append(df1)\n",
    "celerities = celerities.append(df2)\n",
    "celerities = celerities.append(df3)\n",
    "celerities = celerities.append(df4)\n",
    "celerities['signature'] = celerities.apply(get_signature,axis=1)"
   ]
  },
  {
   "cell_type": "code",
   "execution_count": 4,
   "metadata": {
    "ExecuteTime": {
     "end_time": "2023-02-10T14:01:18.678673Z",
     "start_time": "2023-02-10T14:01:18.621870Z"
    }
   },
   "outputs": [
    {
     "data": {
      "text/html": [
       "<div>\n",
       "<style scoped>\n",
       "    .dataframe tbody tr th:only-of-type {\n",
       "        vertical-align: middle;\n",
       "    }\n",
       "\n",
       "    .dataframe tbody tr th {\n",
       "        vertical-align: top;\n",
       "    }\n",
       "\n",
       "    .dataframe thead th {\n",
       "        text-align: right;\n",
       "    }\n",
       "</style>\n",
       "<table border=\"1\" class=\"dataframe\">\n",
       "  <thead>\n",
       "    <tr style=\"text-align: right;\">\n",
       "      <th></th>\n",
       "      <th>g1</th>\n",
       "      <th>g2</th>\n",
       "      <th>c_g1</th>\n",
       "      <th>c_g2</th>\n",
       "      <th>signature</th>\n",
       "    </tr>\n",
       "  </thead>\n",
       "  <tbody>\n",
       "    <tr>\n",
       "      <th>0</th>\n",
       "      <td>0</td>\n",
       "      <td>0</td>\n",
       "      <td>0.7</td>\n",
       "      <td>-1.1</td>\n",
       "      <td>00</td>\n",
       "    </tr>\n",
       "    <tr>\n",
       "      <th>0</th>\n",
       "      <td>0</td>\n",
       "      <td>1</td>\n",
       "      <td>-0.8</td>\n",
       "      <td>-0.9</td>\n",
       "      <td>01</td>\n",
       "    </tr>\n",
       "    <tr>\n",
       "      <th>0</th>\n",
       "      <td>1</td>\n",
       "      <td>0</td>\n",
       "      <td>0.9</td>\n",
       "      <td>1.2</td>\n",
       "      <td>10</td>\n",
       "    </tr>\n",
       "    <tr>\n",
       "      <th>0</th>\n",
       "      <td>1</td>\n",
       "      <td>1</td>\n",
       "      <td>-1.2</td>\n",
       "      <td>1.3</td>\n",
       "      <td>11</td>\n",
       "    </tr>\n",
       "  </tbody>\n",
       "</table>\n",
       "</div>"
      ],
      "text/plain": [
       "  g1 g2  c_g1  c_g2 signature\n",
       "0  0  0   0.7  -1.1        00\n",
       "0  0  1  -0.8  -0.9        01\n",
       "0  1  0   0.9   1.2        10\n",
       "0  1  1  -1.2   1.3        11"
      ]
     },
     "execution_count": 4,
     "metadata": {},
     "output_type": "execute_result"
    }
   ],
   "source": [
    "celerities"
   ]
  },
  {
   "cell_type": "code",
   "execution_count": 5,
   "metadata": {
    "ExecuteTime": {
     "end_time": "2023-02-10T14:01:33.961535Z",
     "start_time": "2023-02-10T14:01:33.030680Z"
    }
   },
   "outputs": [
    {
     "data": {
      "text/plain": [
       "(0, 2)"
      ]
     },
     "execution_count": 5,
     "metadata": {},
     "output_type": "execute_result"
    },
    {
     "data": {
      "image/png": "[encoded data removed]",
      "text/plain": [
       "<Figure size 432x288 with 1 Axes>"
      ]
     },
     "metadata": {
      "needs_background": "light"
     },
     "output_type": "display_data"
    }
   ],
   "source": [
    "ini_ds = '00'\n",
    "ini_cs = [0.5,0.5]\n",
    "r2_ds = '01'\n",
    "r2_interval = [[0.1,0.3],[0.2,0.5]]\n",
    "new_interval = dc(r2_interval)\n",
    "for i in range(len(list_entite)):\n",
    "    new_interval[i][0] = r2_interval[i][0] + int(r2_ds[i])\n",
    "    new_interval[i][1] = r2_interval[i][1] + int(r2_ds[i])\n",
    "\n",
    "num = 40\n",
    "data,t = simulation('00',[0.5,0.5],num)\n",
    "plt.plot(data[0:num,0],data[0:num,1])\n",
    "plt.scatter([0.5],[0.5],color='black')\n",
    "rect=mpatches.Rectangle((new_interval[0][0],new_interval[1][0]),new_interval[0][1]-new_interval[0][0],new_interval[1][1]-new_interval[1][0])\n",
    "plt.gca().add_patch(rect)\n",
    "plt.xlim((0,2))\n",
    "plt.ylim((0,2))\n",
    "# plt.savefig('2d_reach.pdf')"
   ]
  },
  {
   "cell_type": "code",
   "execution_count": 6,
   "metadata": {
    "ExecuteTime": {
     "end_time": "2023-02-10T14:01:39.379411Z",
     "start_time": "2023-02-10T14:01:39.133928Z"
    },
    "scrolled": true
   },
   "outputs": [
    {
     "name": "stderr",
     "output_type": "stream",
     "text": [
      "C:\\Users\\Lenovo\\AppData\\Roaming\\Python\\Python36\\site-packages\\ipykernel_launcher.py:475: FutureWarning: `rcond` parameter will change to the default of machine precision times ``max(M, N)`` where M and N are the input matrix dimensions.\n",
      "To use the future default and silence this warning we advise to pass `rcond=None`, to keep using the old, explicitly pass `rcond=-1`.\n",
      "C:\\Users\\Lenovo\\AppData\\Roaming\\Python\\Python36\\site-packages\\ipykernel_launcher.py:531: RuntimeWarning: divide by zero encountered in true_divide\n",
      "C:\\Users\\Lenovo\\AppData\\Roaming\\Python\\Python36\\site-packages\\ipykernel_launcher.py:613: FutureWarning: `rcond` parameter will change to the default of machine precision times ``max(M, N)`` where M and N are the input matrix dimensions.\n",
      "To use the future default and silence this warning we advise to pass `rcond=None`, to keep using the old, explicitly pass `rcond=-1`.\n"
     ]
    },
    {
     "data": {
      "text/plain": [
       "'Not reached'"
      ]
     },
     "execution_count": 6,
     "metadata": {},
     "output_type": "execute_result"
    }
   ],
   "source": [
    "reach(ini_ds,ini_cs,r2_ds,r2_interval)"
   ]
  },
  {
   "cell_type": "markdown",
   "metadata": {},
   "source": [
    "## Reached example"
   ]
  },
  {
   "cell_type": "code",
   "execution_count": 7,
   "metadata": {
    "ExecuteTime": {
     "end_time": "2023-02-10T14:01:52.939797Z",
     "start_time": "2023-02-10T14:01:52.080325Z"
    }
   },
   "outputs": [
    {
     "data": {
      "text/plain": [
       "(0, 2)"
      ]
     },
     "execution_count": 7,
     "metadata": {},
     "output_type": "execute_result"
    },
    {
     "data": {
      "image/png": "[encoded data removed]",
      "text/plain": [
       "<Figure size 432x288 with 1 Axes>"
      ]
     },
     "metadata": {
      "needs_background": "light"
     },
     "output_type": "display_data"
    }
   ],
   "source": [
    "ini_ds = '00'\n",
    "ini_cs = [0.5,0.5]\n",
    "r2_ds = '01'\n",
    "r2_interval = [[0.6,0.8],[0.2,0.5]]\n",
    "new_interval = dc(r2_interval)\n",
    "for i in range(len(list_entite)):\n",
    "    new_interval[i][0] = r2_interval[i][0] + int(r2_ds[i])\n",
    "    new_interval[i][1] = r2_interval[i][1] + int(r2_ds[i])\n",
    "\n",
    "num = 40\n",
    "data,t = simulation('00',[0.5,0.5],num)\n",
    "plt.plot(data[0:num,0],data[0:num,1])\n",
    "rect=mpatches.Rectangle((new_interval[0][0],new_interval[1][0]),new_interval[0][1]-new_interval[0][0],new_interval[1][1]-new_interval[1][0])\n",
    "plt.gca().add_patch(rect)\n",
    "plt.xlim((0,2))\n",
    "plt.ylim((0,2))"
   ]
  },
  {
   "cell_type": "code",
   "execution_count": 8,
   "metadata": {
    "ExecuteTime": {
     "end_time": "2023-02-10T14:01:56.169632Z",
     "start_time": "2023-02-10T14:01:56.056501Z"
    }
   },
   "outputs": [
    {
     "data": {
      "text/plain": [
       "'Reached'"
      ]
     },
     "execution_count": 8,
     "metadata": {},
     "output_type": "execute_result"
    }
   ],
   "source": [
    "reach(ini_ds,ini_cs,r2_ds,r2_interval)"
   ]
  },
  {
   "cell_type": "markdown",
   "metadata": {},
   "source": [
    "# 3D model"
   ]
  },
  {
   "cell_type": "markdown",
   "metadata": {},
   "source": [
    "## Repressilator with sustained oscillation"
   ]
  },
  {
   "cell_type": "code",
   "execution_count": 279,
   "metadata": {
    "ExecuteTime": {
     "end_time": "2023-01-23T16:11:52.193817Z",
     "start_time": "2023-01-23T16:11:51.237978Z"
    }
   },
   "outputs": [
    {
     "data": {
      "text/plain": [
       "[<matplotlib.lines.Line2D at 0x2a4a981fef0>]"
      ]
     },
     "execution_count": 279,
     "metadata": {},
     "output_type": "execute_result"
    },
    {
     "data": {
      "image/png": "[encoded data removed]",
      "text/plain": [
       "<Figure size 432x288 with 1 Axes>"
      ]
     },
     "metadata": {
      "needs_background": "light"
     },
     "output_type": "display_data"
    }
   ],
   "source": [
    "list_entite = ['a','b','c']\n",
    "max_level = dict()\n",
    "max_level['a'] = 1\n",
    "max_level['b'] = 1\n",
    "max_level['c'] = 1\n",
    "\n",
    "list_colums = []\n",
    "list_colums = list_colums + list_entite\n",
    "for one_ele in list_entite:\n",
    "    list_colums = list_colums + ['c_'+one_ele]\n",
    "celerities = pd.DataFrame(columns=list_colums)\n",
    "\n",
    "cac0a0=1\n",
    "cac0a1=1.9\n",
    "cac1a0=1.3\n",
    "cac1a1=0.4\n",
    "cba0b0=3.8\n",
    "cba0b1=2.5\n",
    "cba1b0=2.7\n",
    "cba1b1=3.3\n",
    "ccb0c0=1.5\n",
    "ccb0c1=0.8\n",
    "ccb1c0=1.9\n",
    "ccb1c1=1.5\n",
    "\n",
    "df1 = pd.DataFrame([[0,0,0,cac0a0,cba0b0,ccb0c0]],columns=list_colums)\n",
    "df2 = pd.DataFrame([[0,0,1,-cac1a0,cba0b0,ccb0c1]],columns=list_colums)\n",
    "df3 = pd.DataFrame([[0,1,0,cac0a0,cba0b1,-ccb1c0]],columns=list_colums)\n",
    "df4 = pd.DataFrame([[0,1,1,-cac1a0,cba0b1,-ccb1c1]],columns=list_colums)\n",
    "df5 = pd.DataFrame([[1,0,0,cac0a1,-cba1b0,ccb0c0]],columns=list_colums)\n",
    "df6 = pd.DataFrame([[1,0,1,-cac1a1,-cba1b0,ccb0c1]],columns=list_colums)\n",
    "df7 = pd.DataFrame([[1,1,0,cac0a1,-cba1b1,-ccb1c0]],columns=list_colums)\n",
    "df8 = pd.DataFrame([[1,1,1,-cac1a1,-cba1b1,-ccb1c1]],columns=list_colums)\n",
    "\n",
    "celerities = celerities.append(df1)\n",
    "celerities = celerities.append(df2)\n",
    "celerities = celerities.append(df3)\n",
    "celerities = celerities.append(df4)\n",
    "celerities = celerities.append(df5)\n",
    "celerities = celerities.append(df6)\n",
    "celerities = celerities.append(df7)\n",
    "celerities = celerities.append(df8)\n",
    "celerities['signature'] = celerities.apply(get_signature,axis=1)\n",
    "\n",
    "num = 30\n",
    "data,t = simulation('000',[0.5,0.5,0.5],num)\n",
    "plt.plot(t[0:num],data[0:num,0],label='a')\n",
    "plt.plot(t[0:num],data[0:num,1],label='b')\n",
    "plt.plot(t[0:num],data[0:num,2],label='c')"
   ]
  },
  {
   "cell_type": "code",
   "execution_count": 145,
   "metadata": {
    "ExecuteTime": {
     "end_time": "2023-01-23T15:03:11.583398Z",
     "start_time": "2023-01-23T15:03:11.346718Z"
    }
   },
   "outputs": [
    {
     "data": {
      "text/plain": [
       "[<mpl_toolkits.mplot3d.art3d.Line3D at 0x2a4a7ddd400>]"
      ]
     },
     "execution_count": 145,
     "metadata": {},
     "output_type": "execute_result"
    },
    {
     "data": {
      "image/png": "[encoded data removed]",
      "text/plain": [
       "<Figure size 432x288 with 1 Axes>"
      ]
     },
     "metadata": {
      "needs_background": "light"
     },
     "output_type": "display_data"
    }
   ],
   "source": [
    "fig = plt.figure()\n",
    "ax = fig.gca(projection='3d')\n",
    "x = data[0:num,0]\n",
    "y = data[0:num,1]\n",
    "z = data[0:num,2]\n",
    "ax.plot(x, y, z)\n",
    "# ax.legend()\n",
    "# plt.savefig('./img/3_negative.png', format='png', dpi=512)"
   ]
  },
  {
   "cell_type": "code",
   "execution_count": 280,
   "metadata": {
    "ExecuteTime": {
     "end_time": "2023-01-23T16:11:56.568203Z",
     "start_time": "2023-01-23T16:11:56.068012Z"
    }
   },
   "outputs": [
    {
     "name": "stderr",
     "output_type": "stream",
     "text": [
      "C:\\Users\\Lenovo\\AppData\\Roaming\\Python\\Python36\\site-packages\\ipykernel_launcher.py:475: FutureWarning: `rcond` parameter will change to the default of machine precision times ``max(M, N)`` where M and N are the input matrix dimensions.\n",
      "To use the future default and silence this warning we advise to pass `rcond=None`, to keep using the old, explicitly pass `rcond=-1`.\n",
      "C:\\Users\\Lenovo\\AppData\\Roaming\\Python\\Python36\\site-packages\\ipykernel_launcher.py:531: RuntimeWarning: divide by zero encountered in true_divide\n",
      "C:\\Users\\Lenovo\\AppData\\Roaming\\Python\\Python36\\site-packages\\ipykernel_launcher.py:613: FutureWarning: `rcond` parameter will change to the default of machine precision times ``max(M, N)`` where M and N are the input matrix dimensions.\n",
      "To use the future default and silence this warning we advise to pass `rcond=None`, to keep using the old, explicitly pass `rcond=-1`.\n"
     ]
    },
    {
     "data": {
      "text/plain": [
       "'Not reached'"
      ]
     },
     "execution_count": 280,
     "metadata": {},
     "output_type": "execute_result"
    }
   ],
   "source": [
    "ini_ds = '000'\n",
    "ini_cs = [0.5,0.5,0.5]\n",
    "r2_ds = '011'\n",
    "r2_interval = [[0.6,0.8],[0.6,0.8],[0.6,0.8]]\n",
    "reach(ini_ds,ini_cs,r2_ds,r2_interval)"
   ]
  },
  {
   "cell_type": "code",
   "execution_count": 281,
   "metadata": {
    "ExecuteTime": {
     "end_time": "2023-01-23T16:11:59.733080Z",
     "start_time": "2023-01-23T16:11:59.528455Z"
    }
   },
   "outputs": [
    {
     "data": {
      "text/plain": [
       "'Reached'"
      ]
     },
     "execution_count": 281,
     "metadata": {},
     "output_type": "execute_result"
    }
   ],
   "source": [
    "ini_ds = '000'\n",
    "ini_cs = [0.5,0.5,0.5]\n",
    "r2_ds = '011'\n",
    "r2_interval = [[0.1,0.2],[0.8,1],[0.3,0.5]]\n",
    "reach(ini_ds,ini_cs,r2_ds,r2_interval)"
   ]
  },
  {
   "cell_type": "markdown",
   "metadata": {},
   "source": [
    "## Repressilator with damped oscillation"
   ]
  },
  {
   "cell_type": "code",
   "execution_count": 282,
   "metadata": {
    "ExecuteTime": {
     "end_time": "2023-01-23T16:12:04.091595Z",
     "start_time": "2023-01-23T16:12:03.197461Z"
    }
   },
   "outputs": [
    {
     "data": {
      "text/plain": [
       "<matplotlib.legend.Legend at 0x2a4a96e4e80>"
      ]
     },
     "execution_count": 282,
     "metadata": {},
     "output_type": "execute_result"
    },
    {
     "data": {
      "image/png": "[encoded data removed]",
      "text/plain": [
       "<Figure size 432x288 with 1 Axes>"
      ]
     },
     "metadata": {
      "needs_background": "light"
     },
     "output_type": "display_data"
    }
   ],
   "source": [
    "list_entite = ['a','b','c']\n",
    "max_level = dict()\n",
    "max_level['a'] = 1\n",
    "max_level['b'] = 1\n",
    "max_level['c'] = 1\n",
    "\n",
    "list_colums = []\n",
    "list_colums = list_colums + list_entite\n",
    "for one_ele in list_entite:\n",
    "    list_colums = list_colums + ['c_'+one_ele]\n",
    "celerities = pd.DataFrame(columns=list_colums)\n",
    "\n",
    "cac0a0=1.5\n",
    "cac0a1=0.7\n",
    "cac1a0=0.6\n",
    "cac1a1=1.6\n",
    "cba0b0=2.1\n",
    "cba0b1=0.4\n",
    "cba1b0=0.3\n",
    "cba1b1=3.3\n",
    "ccb0c0=1.25\n",
    "ccb0c1=0.25\n",
    "ccb1c0=0.23\n",
    "ccb1c1=1.23\n",
    "\n",
    "df1 = pd.DataFrame([[0,0,0,cac0a0,cba0b0,ccb0c0]],columns=list_colums)\n",
    "df2 = pd.DataFrame([[0,0,1,-cac1a0,cba0b0,ccb0c1]],columns=list_colums)\n",
    "df3 = pd.DataFrame([[0,1,0,cac0a0,cba0b1,-ccb1c0]],columns=list_colums)\n",
    "df4 = pd.DataFrame([[0,1,1,-cac1a0,cba0b1,-ccb1c1]],columns=list_colums)\n",
    "df5 = pd.DataFrame([[1,0,0,cac0a1,-cba1b0,ccb0c0]],columns=list_colums)\n",
    "df6 = pd.DataFrame([[1,0,1,-cac1a1,-cba1b0,ccb0c1]],columns=list_colums)\n",
    "df7 = pd.DataFrame([[1,1,0,cac0a1,-cba1b1,-ccb1c0]],columns=list_colums)\n",
    "df8 = pd.DataFrame([[1,1,1,-cac1a1,-cba1b1,-ccb1c1]],columns=list_colums)\n",
    "\n",
    "celerities = celerities.append(df1)\n",
    "celerities = celerities.append(df2)\n",
    "celerities = celerities.append(df3)\n",
    "celerities = celerities.append(df4)\n",
    "celerities = celerities.append(df5)\n",
    "celerities = celerities.append(df6)\n",
    "celerities = celerities.append(df7)\n",
    "celerities = celerities.append(df8)\n",
    "celerities['signature'] = celerities.apply(get_signature,axis=1)\n",
    "\n",
    "num = 30\n",
    "data,t = simulation('000',[0.5,0.5,0.5],num)\n",
    "plt.plot(t[0:num],data[0:num,0],label='a')\n",
    "plt.plot(t[0:num],data[0:num,1],label='b')\n",
    "plt.plot(t[0:num],data[0:num,2],label='c')\n",
    "plt.legend()"
   ]
  },
  {
   "cell_type": "code",
   "execution_count": 160,
   "metadata": {
    "ExecuteTime": {
     "end_time": "2023-01-23T15:09:25.107885Z",
     "start_time": "2023-01-23T15:09:24.820483Z"
    },
    "scrolled": true
   },
   "outputs": [
    {
     "data": {
      "text/plain": [
       "[<mpl_toolkits.mplot3d.art3d.Line3D at 0x2a4a92cef60>]"
      ]
     },
     "execution_count": 160,
     "metadata": {},
     "output_type": "execute_result"
    },
    {
     "data": {
      "image/png": "[encoded data removed]",
      "text/plain": [
       "<Figure size 432x288 with 1 Axes>"
      ]
     },
     "metadata": {
      "needs_background": "light"
     },
     "output_type": "display_data"
    }
   ],
   "source": [
    "fig = plt.figure()\n",
    "ax = fig.gca(projection='3d')\n",
    "x = data[0:num,0]\n",
    "y = data[0:num,1]\n",
    "z = data[0:num,2]\n",
    "ax.plot(x, y, z)\n",
    "# ax.legend()\n",
    "# plt.savefig('./img/3_negative.png', format='png', dpi=512)"
   ]
  },
  {
   "cell_type": "code",
   "execution_count": 283,
   "metadata": {
    "ExecuteTime": {
     "end_time": "2023-01-23T16:12:11.259537Z",
     "start_time": "2023-01-23T16:12:10.558995Z"
    }
   },
   "outputs": [
    {
     "name": "stderr",
     "output_type": "stream",
     "text": [
      "C:\\Users\\Lenovo\\AppData\\Roaming\\Python\\Python36\\site-packages\\ipykernel_launcher.py:475: FutureWarning: `rcond` parameter will change to the default of machine precision times ``max(M, N)`` where M and N are the input matrix dimensions.\n",
      "To use the future default and silence this warning we advise to pass `rcond=None`, to keep using the old, explicitly pass `rcond=-1`.\n",
      "C:\\Users\\Lenovo\\AppData\\Roaming\\Python\\Python36\\site-packages\\ipykernel_launcher.py:531: RuntimeWarning: divide by zero encountered in true_divide\n",
      "C:\\Users\\Lenovo\\AppData\\Roaming\\Python\\Python36\\site-packages\\ipykernel_launcher.py:613: FutureWarning: `rcond` parameter will change to the default of machine precision times ``max(M, N)`` where M and N are the input matrix dimensions.\n",
      "To use the future default and silence this warning we advise to pass `rcond=None`, to keep using the old, explicitly pass `rcond=-1`.\n"
     ]
    },
    {
     "data": {
      "text/plain": [
       "'Not reached'"
      ]
     },
     "execution_count": 283,
     "metadata": {},
     "output_type": "execute_result"
    }
   ],
   "source": [
    "ini_ds = '000'\n",
    "ini_cs = [0.5,0.5,0.5]\n",
    "r2_ds = '011'\n",
    "r2_interval = [[0.6,0.8],[0.6,0.8],[0.6,0.8]]\n",
    "reach(ini_ds,ini_cs,r2_ds,r2_interval)"
   ]
  },
  {
   "cell_type": "code",
   "execution_count": 284,
   "metadata": {
    "ExecuteTime": {
     "end_time": "2023-01-23T16:12:13.394571Z",
     "start_time": "2023-01-23T16:12:13.193115Z"
    }
   },
   "outputs": [
    {
     "data": {
      "text/plain": [
       "'Reached'"
      ]
     },
     "execution_count": 284,
     "metadata": {},
     "output_type": "execute_result"
    }
   ],
   "source": [
    "ini_ds = '000'\n",
    "ini_cs = [0.5,0.5,0.5]\n",
    "r2_ds = '011'\n",
    "r2_interval = [[0.9,1],[0,0.1],[0,0.1]]\n",
    "reach(ini_ds,ini_cs,r2_ds,r2_interval)"
   ]
  },
  {
   "cell_type": "markdown",
   "metadata": {},
   "source": [
    "## Negative feedback loop with asymptotic limit cycle"
   ]
  },
  {
   "cell_type": "code",
   "execution_count": 286,
   "metadata": {
    "ExecuteTime": {
     "end_time": "2023-01-23T16:12:29.376032Z",
     "start_time": "2023-01-23T16:12:29.293163Z"
    }
   },
   "outputs": [],
   "source": [
    "list_entite = ['g1','g2','g3']\n",
    "max_level = dict()\n",
    "max_level['g1'] = 1\n",
    "max_level['g2'] = 1\n",
    "max_level['g3'] = 1\n",
    "\n",
    "list_colums = []\n",
    "list_colums = list_colums + list_entite\n",
    "for one_ele in list_entite:\n",
    "    list_colums = list_colums + ['c_'+one_ele]\n",
    "celerities = pd.DataFrame(columns=list_colums)\n",
    "\n",
    "df1 = pd.DataFrame([[0,0,0,3,-0.6,-0.7]],columns=list_colums)\n",
    "df2 = pd.DataFrame([[0,0,1,3,0.7,-2.9]],columns=list_colums)\n",
    "df3 = pd.DataFrame([[0,1,0,-2.8,-0.8,-0.7]],columns=list_colums)\n",
    "df4 = pd.DataFrame([[0,1,1,-2.8,0.6,-2.9]],columns=list_colums)\n",
    "df5 = pd.DataFrame([[1,0,0,2.7,-0.6,2.6]],columns=list_colums)\n",
    "df6 = pd.DataFrame([[1,0,1,2.7,0.7,0.5]],columns=list_colums)\n",
    "df7 = pd.DataFrame([[1,1,0,-2.9,-0.8,2.6]],columns=list_colums)\n",
    "df8 = pd.DataFrame([[1,1,1,-2.9,0.6,0.5]],columns=list_colums)\n",
    "\n",
    "celerities = celerities.append(df1)\n",
    "celerities = celerities.append(df2)\n",
    "celerities = celerities.append(df3)\n",
    "celerities = celerities.append(df4)\n",
    "celerities = celerities.append(df5)\n",
    "celerities = celerities.append(df6)\n",
    "celerities = celerities.append(df7)\n",
    "celerities = celerities.append(df8)\n",
    "celerities['signature'] = celerities.apply(get_signature,axis=1)"
   ]
  },
  {
   "cell_type": "code",
   "execution_count": 220,
   "metadata": {
    "ExecuteTime": {
     "end_time": "2023-01-23T15:34:57.842697Z",
     "start_time": "2023-01-23T15:34:56.914671Z"
    }
   },
   "outputs": [
    {
     "data": {
      "text/plain": [
       "<matplotlib.legend.Legend at 0x2a4a946b518>"
      ]
     },
     "execution_count": 220,
     "metadata": {},
     "output_type": "execute_result"
    },
    {
     "data": {
      "image/png": "[encoded data removed]",
      "text/plain": [
       "<Figure size 432x288 with 1 Axes>"
      ]
     },
     "metadata": {
      "needs_background": "light"
     },
     "output_type": "display_data"
    }
   ],
   "source": [
    "num = 30\n",
    "data,t = simulation('000',[0.5,0.5,0.5],num)\n",
    "plt.plot(t[0:num],data[0:num,0],label='a')\n",
    "plt.plot(t[0:num],data[0:num,1],label='b')\n",
    "plt.plot(t[0:num],data[0:num,2],label='c')\n",
    "plt.legend()"
   ]
  },
  {
   "cell_type": "code",
   "execution_count": 111,
   "metadata": {
    "ExecuteTime": {
     "end_time": "2023-01-23T13:42:57.821131Z",
     "start_time": "2023-01-23T13:42:57.606678Z"
    }
   },
   "outputs": [
    {
     "data": {
      "text/plain": [
       "[<mpl_toolkits.mplot3d.art3d.Line3D at 0x2a4a7695240>]"
      ]
     },
     "execution_count": 111,
     "metadata": {},
     "output_type": "execute_result"
    },
    {
     "data": {
      "image/png": "[encoded data removed]",
      "text/plain": [
       "<Figure size 432x288 with 1 Axes>"
      ]
     },
     "metadata": {
      "needs_background": "light"
     },
     "output_type": "display_data"
    }
   ],
   "source": [
    "fig = plt.figure()\n",
    "ax = fig.gca(projection='3d')\n",
    "x = data[0:num,0]\n",
    "y = data[0:num,1]\n",
    "z = data[0:num,2]\n",
    "ax.plot(x, y, z)"
   ]
  },
  {
   "cell_type": "code",
   "execution_count": 287,
   "metadata": {
    "ExecuteTime": {
     "end_time": "2023-01-23T16:12:36.194140Z",
     "start_time": "2023-01-23T16:12:35.158037Z"
    }
   },
   "outputs": [
    {
     "name": "stderr",
     "output_type": "stream",
     "text": [
      "C:\\Users\\Lenovo\\AppData\\Roaming\\Python\\Python36\\site-packages\\ipykernel_launcher.py:475: FutureWarning: `rcond` parameter will change to the default of machine precision times ``max(M, N)`` where M and N are the input matrix dimensions.\n",
      "To use the future default and silence this warning we advise to pass `rcond=None`, to keep using the old, explicitly pass `rcond=-1`.\n",
      "C:\\Users\\Lenovo\\AppData\\Roaming\\Python\\Python36\\site-packages\\ipykernel_launcher.py:531: RuntimeWarning: divide by zero encountered in true_divide\n"
     ]
    },
    {
     "data": {
      "text/plain": [
       "'Reached'"
      ]
     },
     "execution_count": 287,
     "metadata": {},
     "output_type": "execute_result"
    }
   ],
   "source": [
    "ini_ds = '000'\n",
    "ini_cs = [0.5,0.5,0.5]\n",
    "r2_ds = '011'\n",
    "r2_interval = [[0.9,1],[0.2,0.3],[0.3,0.4]]\n",
    "reach(ini_ds,ini_cs,r2_ds,r2_interval)"
   ]
  },
  {
   "cell_type": "code",
   "execution_count": 288,
   "metadata": {
    "ExecuteTime": {
     "end_time": "2023-01-23T16:12:40.032594Z",
     "start_time": "2023-01-23T16:12:38.507488Z"
    }
   },
   "outputs": [
    {
     "name": "stderr",
     "output_type": "stream",
     "text": [
      "C:\\Users\\Lenovo\\AppData\\Roaming\\Python\\Python36\\site-packages\\ipykernel_launcher.py:475: FutureWarning: `rcond` parameter will change to the default of machine precision times ``max(M, N)`` where M and N are the input matrix dimensions.\n",
      "To use the future default and silence this warning we advise to pass `rcond=None`, to keep using the old, explicitly pass `rcond=-1`.\n",
      "C:\\Users\\Lenovo\\AppData\\Roaming\\Python\\Python36\\site-packages\\ipykernel_launcher.py:531: RuntimeWarning: divide by zero encountered in true_divide\n",
      "C:\\Users\\Lenovo\\AppData\\Roaming\\Python\\Python36\\site-packages\\ipykernel_launcher.py:613: FutureWarning: `rcond` parameter will change to the default of machine precision times ``max(M, N)`` where M and N are the input matrix dimensions.\n",
      "To use the future default and silence this warning we advise to pass `rcond=None`, to keep using the old, explicitly pass `rcond=-1`.\n"
     ]
    },
    {
     "data": {
      "text/plain": [
       "'Not reached'"
      ]
     },
     "execution_count": 288,
     "metadata": {},
     "output_type": "execute_result"
    }
   ],
   "source": [
    "ini_ds = '000'\n",
    "ini_cs = [0.5,0.5,0.5]\n",
    "r2_ds = '111'\n",
    "r2_interval = [[0.9,1],[0.2,0.3],[0.3,0.4]]\n",
    "reach(ini_ds,ini_cs,r2_ds,r2_interval)"
   ]
  },
  {
   "cell_type": "markdown",
   "metadata": {},
   "source": [
    "## Example with chaotic attractor"
   ]
  },
  {
   "cell_type": "code",
   "execution_count": 289,
   "metadata": {
    "ExecuteTime": {
     "end_time": "2023-01-23T16:12:43.889518Z",
     "start_time": "2023-01-23T16:12:43.796215Z"
    }
   },
   "outputs": [],
   "source": [
    "list_entite = ['x','y','z']\n",
    "max_level = dict()\n",
    "max_level['x'] = 1\n",
    "max_level['y'] = 2\n",
    "max_level['z'] = 1\n",
    "\n",
    "a = 1.5\n",
    "b = 0.7\n",
    "\n",
    "list_colums = []\n",
    "list_colums = list_colums + list_entite\n",
    "for one_ele in list_entite:\n",
    "    list_colums = list_colums + ['c_'+one_ele]\n",
    "celerities = pd.DataFrame(columns=list_colums)\n",
    "\n",
    "df1 = pd.DataFrame([[0,0,0,-1/6,(1+b)/3,1/12]],columns=list_colums)\n",
    "df2 = pd.DataFrame([[0,0,1,-1/6,(1+b-a)/3,1/4]],columns=list_colums)\n",
    "df3 = pd.DataFrame([[0,1,0,-1/6,(1-b)/1,1/12]],columns=list_colums)\n",
    "df4 = pd.DataFrame([[0,1,1,-1/6,(1-b+a)/1,1/4]],columns=list_colums)\n",
    "df5 = pd.DataFrame([[0,2,0,1/6,(1-b)/7,1/12]],columns=list_colums)\n",
    "df6 = pd.DataFrame([[0,2,1,1/6,(1-b+a)/7,1/4]],columns=list_colums)\n",
    "df7 = pd.DataFrame([[1,0,0,-1/8,(-1+b)/3,-1/12]],columns=list_colums)\n",
    "df8 = pd.DataFrame([[1,0,1,-1/8,(-1+b-a)/3,-1/4]],columns=list_colums)\n",
    "df9 = pd.DataFrame([[1,1,0,-1/8,(-1-b)/1,-1/12]],columns=list_colums)\n",
    "df10 = pd.DataFrame([[1,1,1,-1/8,(-1-b+a)/1,-1/4]],columns=list_colums)\n",
    "df11 = pd.DataFrame([[1,2,0,1/8,(-1-b)/7,-1/12]],columns=list_colums)\n",
    "df12 = pd.DataFrame([[1,2,1,1/8,(-1-b+a)/7,-1/4]],columns=list_colums)\n",
    "\n",
    "celerities = celerities.append(df1)\n",
    "celerities = celerities.append(df2)\n",
    "celerities = celerities.append(df3)\n",
    "celerities = celerities.append(df4)\n",
    "celerities = celerities.append(df5)\n",
    "celerities = celerities.append(df6)\n",
    "celerities = celerities.append(df7)\n",
    "celerities = celerities.append(df8)\n",
    "celerities = celerities.append(df9)\n",
    "celerities = celerities.append(df10)\n",
    "celerities = celerities.append(df11)\n",
    "celerities = celerities.append(df12)\n",
    "celerities['signature'] = celerities.apply(get_signature,axis=1)"
   ]
  },
  {
   "cell_type": "code",
   "execution_count": 183,
   "metadata": {
    "ExecuteTime": {
     "end_time": "2023-01-23T15:18:47.316802Z",
     "start_time": "2023-01-23T15:18:45.921938Z"
    }
   },
   "outputs": [
    {
     "data": {
      "text/plain": [
       "<matplotlib.legend.Legend at 0x2a4a93b52e8>"
      ]
     },
     "execution_count": 183,
     "metadata": {},
     "output_type": "execute_result"
    },
    {
     "data": {
      "image/png": "[encoded data removed]",
      "text/plain": [
       "<Figure size 432x288 with 1 Axes>"
      ]
     },
     "metadata": {
      "needs_background": "light"
     },
     "output_type": "display_data"
    }
   ],
   "source": [
    "num = 50\n",
    "data,t = simulation('000',[0.5,0.5,0.5],num)\n",
    "plt.plot(t[0:num],data[0:num,0],label='a')\n",
    "plt.plot(t[0:num],data[0:num,1],label='b')\n",
    "plt.plot(t[0:num],data[0:num,2],label='c')\n",
    "plt.legend()"
   ]
  },
  {
   "cell_type": "code",
   "execution_count": 290,
   "metadata": {
    "ExecuteTime": {
     "end_time": "2023-01-23T16:12:50.541720Z",
     "start_time": "2023-01-23T16:12:46.478259Z"
    }
   },
   "outputs": [
    {
     "name": "stderr",
     "output_type": "stream",
     "text": [
      "C:\\Users\\Lenovo\\AppData\\Roaming\\Python\\Python36\\site-packages\\ipykernel_launcher.py:475: FutureWarning: `rcond` parameter will change to the default of machine precision times ``max(M, N)`` where M and N are the input matrix dimensions.\n",
      "To use the future default and silence this warning we advise to pass `rcond=None`, to keep using the old, explicitly pass `rcond=-1`.\n",
      "C:\\Users\\Lenovo\\AppData\\Roaming\\Python\\Python36\\site-packages\\ipykernel_launcher.py:531: RuntimeWarning: divide by zero encountered in true_divide\n"
     ]
    },
    {
     "data": {
      "text/plain": [
       "'Unknown'"
      ]
     },
     "execution_count": 290,
     "metadata": {},
     "output_type": "execute_result"
    }
   ],
   "source": [
    "ini_ds = '000'\n",
    "ini_cs = [0.5,0.5,0.5]\n",
    "r2_ds = '111'\n",
    "r2_interval = [[0.9,1],[0.2,0.3],[0.3,0.4]]\n",
    "reach(ini_ds,ini_cs,r2_ds,r2_interval)"
   ]
  },
  {
   "cell_type": "markdown",
   "metadata": {},
   "source": [
    "# 5D model"
   ]
  },
  {
   "cell_type": "code",
   "execution_count": 3,
   "metadata": {
    "ExecuteTime": {
     "end_time": "2023-01-25T13:58:14.207009Z",
     "start_time": "2023-01-25T13:58:14.131216Z"
    }
   },
   "outputs": [],
   "source": [
    "list_entite = ['sk','ep','a','b','en']\n",
    "max_level = dict()\n",
    "max_level['sk'] = 2\n",
    "max_level['ep'] = 1\n",
    "max_level['a'] = 1\n",
    "max_level['b'] = 1\n",
    "max_level['en'] = 1\n",
    "celerities = pd.read_csv('celerity5d.csv')\n",
    "celerities['signature'] = celerities.apply(get_signature,axis=1)\n"
   ]
  },
  {
   "cell_type": "code",
   "execution_count": 230,
   "metadata": {
    "ExecuteTime": {
     "end_time": "2023-01-23T15:38:43.758740Z",
     "start_time": "2023-01-23T15:38:43.686631Z"
    }
   },
   "outputs": [
    {
     "data": {
      "text/html": [
       "<div>\n",
       "<style scoped>\n",
       "    .dataframe tbody tr th:only-of-type {\n",
       "        vertical-align: middle;\n",
       "    }\n",
       "\n",
       "    .dataframe tbody tr th {\n",
       "        vertical-align: top;\n",
       "    }\n",
       "\n",
       "    .dataframe thead th {\n",
       "        text-align: right;\n",
       "    }\n",
       "</style>\n",
       "<table border=\"1\" class=\"dataframe\">\n",
       "  <thead>\n",
       "    <tr style=\"text-align: right;\">\n",
       "      <th></th>\n",
       "      <th>sk</th>\n",
       "      <th>ep</th>\n",
       "      <th>a</th>\n",
       "      <th>b</th>\n",
       "      <th>en</th>\n",
       "      <th>c_sk</th>\n",
       "      <th>c_ep</th>\n",
       "      <th>c_a</th>\n",
       "      <th>c_b</th>\n",
       "      <th>c_en</th>\n",
       "      <th>signature</th>\n",
       "    </tr>\n",
       "  </thead>\n",
       "  <tbody>\n",
       "    <tr>\n",
       "      <th>0</th>\n",
       "      <td>0</td>\n",
       "      <td>0</td>\n",
       "      <td>0</td>\n",
       "      <td>0</td>\n",
       "      <td>0</td>\n",
       "      <td>0.171429</td>\n",
       "      <td>-0.421197</td>\n",
       "      <td>0.481899</td>\n",
       "      <td>0.126388</td>\n",
       "      <td>0.486555</td>\n",
       "      <td>00000</td>\n",
       "    </tr>\n",
       "    <tr>\n",
       "      <th>1</th>\n",
       "      <td>0</td>\n",
       "      <td>0</td>\n",
       "      <td>0</td>\n",
       "      <td>0</td>\n",
       "      <td>1</td>\n",
       "      <td>0.171429</td>\n",
       "      <td>-0.421197</td>\n",
       "      <td>-0.565591</td>\n",
       "      <td>-6.630917</td>\n",
       "      <td>0.403097</td>\n",
       "      <td>00001</td>\n",
       "    </tr>\n",
       "    <tr>\n",
       "      <th>2</th>\n",
       "      <td>0</td>\n",
       "      <td>0</td>\n",
       "      <td>0</td>\n",
       "      <td>1</td>\n",
       "      <td>0</td>\n",
       "      <td>0.171429</td>\n",
       "      <td>0.250000</td>\n",
       "      <td>-0.065449</td>\n",
       "      <td>0.694524</td>\n",
       "      <td>0.486555</td>\n",
       "      <td>00010</td>\n",
       "    </tr>\n",
       "    <tr>\n",
       "      <th>3</th>\n",
       "      <td>0</td>\n",
       "      <td>0</td>\n",
       "      <td>0</td>\n",
       "      <td>1</td>\n",
       "      <td>1</td>\n",
       "      <td>0.171429</td>\n",
       "      <td>0.250000</td>\n",
       "      <td>-5.393131</td>\n",
       "      <td>-6.000000</td>\n",
       "      <td>0.403097</td>\n",
       "      <td>00011</td>\n",
       "    </tr>\n",
       "    <tr>\n",
       "      <th>4</th>\n",
       "      <td>0</td>\n",
       "      <td>0</td>\n",
       "      <td>1</td>\n",
       "      <td>0</td>\n",
       "      <td>0</td>\n",
       "      <td>-1.528967</td>\n",
       "      <td>-0.421197</td>\n",
       "      <td>0.918569</td>\n",
       "      <td>0.124537</td>\n",
       "      <td>-0.639516</td>\n",
       "      <td>00100</td>\n",
       "    </tr>\n",
       "  </tbody>\n",
       "</table>\n",
       "</div>"
      ],
      "text/plain": [
       "   sk  ep  a  b  en      c_sk      c_ep       c_a       c_b      c_en  \\\n",
       "0   0   0  0  0   0  0.171429 -0.421197  0.481899  0.126388  0.486555   \n",
       "1   0   0  0  0   1  0.171429 -0.421197 -0.565591 -6.630917  0.403097   \n",
       "2   0   0  0  1   0  0.171429  0.250000 -0.065449  0.694524  0.486555   \n",
       "3   0   0  0  1   1  0.171429  0.250000 -5.393131 -6.000000  0.403097   \n",
       "4   0   0  1  0   0 -1.528967 -0.421197  0.918569  0.124537 -0.639516   \n",
       "\n",
       "  signature  \n",
       "0     00000  \n",
       "1     00001  \n",
       "2     00010  \n",
       "3     00011  \n",
       "4     00100  "
      ]
     },
     "execution_count": 230,
     "metadata": {},
     "output_type": "execute_result"
    }
   ],
   "source": [
    "celerities.head()"
   ]
  },
  {
   "cell_type": "code",
   "execution_count": 4,
   "metadata": {
    "ExecuteTime": {
     "end_time": "2023-01-24T11:35:12.633887Z",
     "start_time": "2023-01-24T11:35:11.194781Z"
    }
   },
   "outputs": [
    {
     "data": {
      "text/plain": [
       "<matplotlib.legend.Legend at 0x170e3a5db38>"
      ]
     },
     "execution_count": 4,
     "metadata": {},
     "output_type": "execute_result"
    },
    {
     "data": {
      "image/png": "[encoded data removed]",
      "text/plain": [
       "<Figure size 432x288 with 1 Axes>"
      ]
     },
     "metadata": {
      "needs_background": "light"
     },
     "output_type": "display_data"
    }
   ],
   "source": [
    "num = 40\n",
    "data,t = simulation('00000',[0.5,0.5,0.5,0.5,0.5],num)\n",
    "plt.plot(t[0:num],data[0:num,0],label=list_entite[0])\n",
    "plt.plot(t[0:num],data[0:num,1],label=list_entite[1])\n",
    "plt.plot(t[0:num],data[0:num,2],label=list_entite[2])\n",
    "plt.plot(t[0:num],data[0:num,3],label=list_entite[3])\n",
    "plt.plot(t[0:num],data[0:num,4],label=list_entite[4])\n",
    "plt.legend()"
   ]
  },
  {
   "cell_type": "code",
   "execution_count": 293,
   "metadata": {
    "ExecuteTime": {
     "end_time": "2023-01-23T16:13:04.490261Z",
     "start_time": "2023-01-23T16:13:03.781297Z"
    }
   },
   "outputs": [
    {
     "data": {
      "text/plain": [
       "'Reached'"
      ]
     },
     "execution_count": 293,
     "metadata": {},
     "output_type": "execute_result"
    }
   ],
   "source": [
    "ini_ds = '00000'\n",
    "ini_cs = [0.5,0.5,0.5,0.5,0.5]\n",
    "r2_ds = '00001'\n",
    "r2_interval = [[0.82,0.84],[0,0.01],[0,0.01],[0,0.01],[0.99,1]]\n",
    "reach(ini_ds,ini_cs,r2_ds,r2_interval)"
   ]
  },
  {
   "cell_type": "code",
   "execution_count": 294,
   "metadata": {
    "ExecuteTime": {
     "end_time": "2023-01-23T16:13:06.219532Z",
     "start_time": "2023-01-23T16:13:05.120707Z"
    }
   },
   "outputs": [
    {
     "name": "stderr",
     "output_type": "stream",
     "text": [
      "C:\\Users\\Lenovo\\AppData\\Roaming\\Python\\Python36\\site-packages\\ipykernel_launcher.py:475: FutureWarning: `rcond` parameter will change to the default of machine precision times ``max(M, N)`` where M and N are the input matrix dimensions.\n",
      "To use the future default and silence this warning we advise to pass `rcond=None`, to keep using the old, explicitly pass `rcond=-1`.\n",
      "C:\\Users\\Lenovo\\AppData\\Roaming\\Python\\Python36\\site-packages\\ipykernel_launcher.py:531: RuntimeWarning: divide by zero encountered in true_divide\n"
     ]
    },
    {
     "data": {
      "text/plain": [
       "'Not reached'"
      ]
     },
     "execution_count": 294,
     "metadata": {},
     "output_type": "execute_result"
    }
   ],
   "source": [
    "ini_ds = '00000'\n",
    "ini_cs = [0.5,0.5,0.5,0.5,0.5]\n",
    "r2_ds = '21010'\n",
    "r2_interval = [[0,1],[0,1],[0,1],[0,1],[0,1]]\n",
    "reach(ini_ds,ini_cs,r2_ds,r2_interval)"
   ]
  },
  {
   "cell_type": "markdown",
   "metadata": {},
   "source": [
    "Estimating the basins of attraction of the stable limit cycle and the stable fixed point"
   ]
  },
  {
   "cell_type": "code",
   "execution_count": null,
   "metadata": {
    "ExecuteTime": {
     "end_time": "2023-01-24T09:02:21.193256Z",
     "start_time": "2023-01-24T08:48:01.682119Z"
    }
   },
   "outputs": [],
   "source": [
    "r2_ds = '00001'\n",
    "r2_interval = [[0.82,0.84],[0,0.01],[0,0.01],[0,0.01],[0.99,1]]\n",
    "r2p_ds = '21010'\n",
    "r2p_interval = [[0,1],[0,1],[0,1],[0,1],[0,1]]\n",
    "pro_basin = dict()\n",
    "# with open('pro_basin.pkl', 'rb') as f:\n",
    "#     pro_basin = pickle.load(f)\n",
    "list_ds = list(celerities['signature'])\n",
    "for one_ds in list_ds:\n",
    "    nb1 = 0\n",
    "    nb2 = 0\n",
    "    sample = 20\n",
    "    for i in range(20):\n",
    "        ini_ds = one_ds\n",
    "        ini_cs = [np.random.uniform(),np.random.uniform(),np.random.uniform(),np.random.uniform(),np.random.uniform()]\n",
    "\n",
    "        res1 = reach(ini_ds,ini_cs,r2_ds,r2_interval)\n",
    "        res2 = reach(ini_ds,ini_cs,r2p_ds,r2p_interval)\n",
    "        if res1 == 'Reached' and res2 == 'Not reached':\n",
    "            nb1 = nb1+1\n",
    "        elif res1 == 'Not reached' and res2 == 'Reached':\n",
    "            nb2 = nb2+1\n",
    "        else:\n",
    "            print('unpredicted result')\n",
    "    pro_basin[one_ds] = [nb1/sample,nb2/sample]\n",
    "# execution time: 30 minutes"
   ]
  },
  {
   "cell_type": "markdown",
   "metadata": {},
   "source": [
    "Visualizing the results"
   ]
  },
  {
   "cell_type": "code",
   "execution_count": 26,
   "metadata": {
    "ExecuteTime": {
     "end_time": "2023-01-25T14:20:38.528666Z",
     "start_time": "2023-01-25T14:20:37.778430Z"
    }
   },
   "outputs": [
    {
     "data": {
      "text/plain": [
       "'Digraph.gv.pdf'"
      ]
     },
     "execution_count": 26,
     "metadata": {},
     "output_type": "execute_result"
    }
   ],
   "source": [
    "nb_state = celerities.shape[0]\n",
    "graph = dict()\n",
    "for i in range(nb_state):\n",
    "    current_parameter = celerities.iloc[i]\n",
    "    current_state = ''\n",
    "    for ele in list_entite:\n",
    "        current_state = current_state + str(current_parameter[ele])\n",
    "    # current state: '01' '00'\n",
    "    graph[current_state] = []\n",
    "    for j in range(len(list_entite)):\n",
    "        ele = list_entite[j]\n",
    "        current_level = current_parameter[ele]\n",
    "        current_speed = current_parameter['c_'+ele]\n",
    "        if current_level < max_level[ele] and current_speed > 0:\n",
    "            next_state = current_state[0:j] + str(current_level+1) + current_state[j+1:]\n",
    "            next_speed = get_celerity(next_state,j)\n",
    "            if next_speed > 0:\n",
    "                graph[current_state] = graph[current_state] + [next_state]\n",
    "        elif current_level > 0 and current_speed < 0:\n",
    "            next_state = current_state[0:j] + str(current_level-1) + current_state[j+1:]\n",
    "            next_speed = get_celerity(next_state,j)\n",
    "            if next_speed <0:\n",
    "                graph[current_state] = graph[current_state] + [next_state]\n",
    "    if graph[current_state] == []:\n",
    "        graph[current_state] = [current_state]\n",
    "        \n",
    "dict_limit_cycle = dict()\n",
    "dict_limit_cycle['00001'] = '10001'\n",
    "dict_limit_cycle['10001'] = '20001'\n",
    "dict_limit_cycle['20001'] = '20000'\n",
    "dict_limit_cycle['20000'] = '20100'\n",
    "dict_limit_cycle['20100'] = '10100'\n",
    "dict_limit_cycle['10100'] = '00100'\n",
    "dict_limit_cycle['00100'] = '00110'\n",
    "dict_limit_cycle['00110'] = '00010'\n",
    "dict_limit_cycle['00010'] = '01010'\n",
    "dict_limit_cycle['01010'] = '01011'\n",
    "dict_limit_cycle['01011'] = '01001'\n",
    "dict_limit_cycle['01001'] = '00001'\n",
    "        \n",
    "dot = Digraph(format='pdf')\n",
    "for ele in list(graph.keys()):\n",
    "    if ele == '21010':\n",
    "        dot.node(ele,ele+'\\n'+\"{:4.2f}\".format(pro_basin[ele][0])+' '+\"{:4.2f}\".format(pro_basin[ele][1]),color='red',fontsize='32')\n",
    "    else:\n",
    "        dot.node(ele,ele+'\\n'+\"{:4.2f}\".format(pro_basin[ele][0])+' '+\"{:4.2f}\".format(pro_basin[ele][1]),fontsize='32')\n",
    "    list_edge = []\n",
    "    for one in graph[ele]:\n",
    "        if ele in list(dict_limit_cycle.keys()) and dict_limit_cycle[ele] == one:\n",
    "            dot.edge(ele,one,color='red',arrowsize='2')\n",
    "        else:\n",
    "            dot.edge(ele,one,arrowsize='2')\n",
    "dot.render(view=True)"
   ]
  },
  {
   "cell_type": "code",
   "execution_count": null,
   "metadata": {},
   "outputs": [],
   "source": []
  }
 ],
 "metadata": {
  "kernelspec": {
   "display_name": "Python 3",
   "language": "python",
   "name": "python3"
  },
  "language_info": {
   "codemirror_mode": {
    "name": "ipython",
    "version": 3
   },
   "file_extension": ".py",
   "mimetype": "text/x-python",
   "name": "python",
   "nbconvert_exporter": "python",
   "pygments_lexer": "ipython3",
   "version": "3.6.5"
  },
  "latex_envs": {
   "LaTeX_envs_menu_present": true,
   "autoclose": false,
   "autocomplete": true,
   "bibliofile": "biblio.bib",
   "cite_by": "apalike",
   "current_citInitial": 1,
   "eqLabelWithNumbers": true,
   "eqNumInitial": 1,
   "hotkeys": {
    "equation": "Ctrl-E",
    "itemize": "Ctrl-I"
   },
   "labels_anchors": false,
   "latex_user_defs": false,
   "report_style_numbering": false,
   "user_envs_cfg": false
  },
  "toc": {
   "base_numbering": 1,
   "nav_menu": {},
   "number_sections": true,
   "sideBar": true,
   "skip_h1_title": false,
   "title_cell": "Table of Contents",
   "title_sidebar": "Contents",
   "toc_cell": false,
   "toc_position": {
    "height": "calc(100% - 180px)",
    "left": "10px",
    "top": "150px",
    "width": "368.182px"
   },
   "toc_section_display": true,
   "toc_window_display": true
  }
 },
 "nbformat": 4,
 "nbformat_minor": 4
}
